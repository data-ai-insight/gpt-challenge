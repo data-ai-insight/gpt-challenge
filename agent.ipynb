{
 "cells": [
  {
   "cell_type": "code",
   "execution_count": 7,
   "metadata": {},
   "outputs": [],
   "source": [
    "import os\n",
    "import requests\n",
    "from typing import Type\n",
    "from pydantic import BaseModel, Field\n",
    "from langchain.chat_models import ChatOpenAI\n",
    "from langchain.tools import BaseTool\n",
    "from langchain.agents import initialize_agent, AgentType\n",
    "from langchain.utilities.duckduckgo_search import DuckDuckGoSearchAPIWrapper\n",
    "from langchain.schema import SystemMessage\n",
    "from dotenv import load_dotenv\n",
    "\n",
    "# Load environment variables\n",
    "load_dotenv()\n",
    "\n",
    "# Initialize the LLM\n",
    "llm = ChatOpenAI(temperature=0.1, model_name=\"gpt-3.5-turbo\")\n",
    "\n",
    "# Define the tools\n",
    "class WikipediaSearchTool(BaseTool):\n",
    "    name = \"WikipediaSearchTool\"\n",
    "    description = \"Search Wikipedia for a specific query.\"\n",
    "\n",
    "    class Args(BaseModel):\n",
    "        query: str = Field(description=\"The query to search on Wikipedia.\")\n",
    "\n",
    "    def _run(self, query: str):\n",
    "        ddg = DuckDuckGoSearchAPIWrapper()\n",
    "        results = ddg.run(f\"site:wikipedia.org {query}\")\n",
    "        return results\n",
    "\n",
    "class DuckDuckGoSearchTool(BaseTool):\n",
    "    name = \"DuckDuckGoSearchTool\"\n",
    "    description = \"Search the web using DuckDuckGo.\"\n",
    "\n",
    "    class Args(BaseModel):\n",
    "        query: str = Field(description=\"The query to search on DuckDuckGo.\")\n",
    "\n",
    "    def _run(self, query: str):\n",
    "        ddg = DuckDuckGoSearchAPIWrapper()\n",
    "        return ddg.run(query)\n",
    "\n",
    "class WebScraperTool(BaseTool):\n",
    "    name = \"WebScraperTool\"\n",
    "    description = \"Scrape text content from a given URL.\"\n",
    "\n",
    "    class Args(BaseModel):\n",
    "        url: str = Field(description=\"The URL of the website to scrape.\")\n",
    "\n",
    "    def _run(self, url: str):\n",
    "        response = requests.get(url)\n",
    "        if response.status_code == 200:\n",
    "            return response.text\n",
    "        else:\n",
    "            return f\"Failed to fetch the URL. Status code: {response.status_code}\"\n",
    "\n",
    "class SaveToFileTool(BaseTool):\n",
    "    name = \"SaveToFileTool\"\n",
    "    description = \"Save the given content to a text file.\"\n",
    "\n",
    "    class Args(BaseModel):\n",
    "        filename: str = Field(description=\"The name of the file to save the content.\")\n",
    "        content: str = Field(description=\"The content to save into the file.\")\n",
    "\n",
    "    def _run(self, filename: str, content: str):\n",
    "        with open(filename, \"w\", encoding=\"utf-8\") as file:\n",
    "            file.write(content)\n",
    "        return f\"Content saved to {filename}\"\n",
    "\n",
    "# Initialize the agent\n",
    "agent = initialize_agent(\n",
    "    llm=llm,\n",
    "    verbose=True,\n",
    "    agent=AgentType.OPENAI_FUNCTIONS,\n",
    "    handle_parsing_errors=True,\n",
    "    tools=[\n",
    "        WikipediaSearchTool(),\n",
    "        DuckDuckGoSearchTool(),\n",
    "        WebScraperTool(),\n",
    "        SaveToFileTool(),\n",
    "    ],\n",
    "    agent_kwargs={\n",
    "        \"system_message\": SystemMessage(\n",
    "            content=\"\"\"\n",
    "            You are a research assistant AI agent. Your task is to research queries using Wikipedia and DuckDuckGo, \n",
    "            extract relevant information from websites, and save your findings to a text file. Always return a \n",
    "            clear summary of your actions and results.\n",
    "            \"\"\"\n",
    "        )\n",
    "    },\n",
    ")"
   ]
  },
  {
   "cell_type": "code",
   "execution_count": 8,
   "metadata": {},
   "outputs": [
    {
     "name": "stdout",
     "output_type": "stream",
     "text": [
      "\n",
      "\n",
      "\u001b[1m> Entering new AgentExecutor chain...\u001b[0m\n",
      "\u001b[32;1m\u001b[1;3m\n",
      "Invoking: `WikipediaSearchTool` with `XZ backdoor`\n",
      "\n",
      "\n",
      "\u001b[0m\u001b[36;1m\u001b[1;3mMain page; Contents; Current events; Random article; About Wikipedia; Contact us; Donate; Pages for logged out editors learn more Main page; Contents; Current events; Random article; About Wikipedia; Contact us; Donate Discussion: Attaque de XZ Utils par porte dérobée. Ajouter des langues. Le contenu de la page n'est pas pris en charge dans d'autres langues. Article; Discussion; français. Lire; Modifier le code; Ajouter un sujet; Voir l'historique; Outils. Outils. déplacer vers la barre latérale masquer. Actions Lire; Main page; Contents; Current events; Random article; About Wikipedia; Contact us; Donate; Pages for logged out editors learn more Main page; Contents; Current events; Random article; About Wikipedia; Contact us; Donate; Pages for logged out editors learn more\u001b[0m\u001b[32;1m\u001b[1;3m\n",
      "Invoking: `DuckDuckGoSearchTool` with `XZ backdoor`\n",
      "responded: I couldn't find specific information about the \"XZ backdoor\" on Wikipedia. Let me search for more details using DuckDuckGo.\n",
      "\n",
      "\u001b[0m\u001b[33;1m\u001b[1;3mWhat Does the Backdoor Do? Malicious code added to xz Utils versions 5.6.0 and 5.6.1 modified the way the software functions. The backdoor manipulated sshd, the executable file used to make remote ... Now that the XZ backdoor has control over sshd, attackers can possess the encryption key used to make the SSH connections hide their malicious code in the SSH login certificate and use it as an entry point to execute various malicious actions on the compromised device - such as stealing files or installing malware (e.g., ransomware ... Because the backdoor was discovered before the malicious versions of xz Utils were added to production versions of Linux, \"it's not really affecting anyone in the real world,\" Will Dormann, a ... The story of the XZ backdoor's discovery starts in the early morning of March 29th, as San Francisco-based Microsoft developer Andres Freund posted on Mastodon and sent an email to OpenWall's ... On March 28, 2024 a backdoor was identified in XZ Utils. This vulnerability, CVE-2024-3094 with a CVSS score of 10 is a result of a software supply chain compromise impacting versions 5.6.0 and 5.6.1 of XZ Utils. The U.S. Cybersecurity and Infrastructure Security Agency (CISA) has recommended organizations to downgrade to a previous non-compromised XZ Utils version.\u001b[0m\u001b[32;1m\u001b[1;3mThe XZ backdoor refers to malicious code added to xz Utils versions 5.6.0 and 5.6.1, which manipulated the sshd executable file used for remote connections. This backdoor allowed attackers to control sshd, possess encryption keys, hide malicious code in SSH login certificates, and execute various malicious actions on compromised devices. Fortunately, the backdoor was discovered before affecting production versions of Linux. The vulnerability, identified as CVE-2024-3094, has a CVSS score of 10, and organizations are advised to downgrade to non-compromised versions of XZ Utils.\u001b[0m\n",
      "\n",
      "\u001b[1m> Finished chain.\u001b[0m\n",
      "{'input': 'Research about the XZ backdoor', 'output': 'The XZ backdoor refers to malicious code added to xz Utils versions 5.6.0 and 5.6.1, which manipulated the sshd executable file used for remote connections. This backdoor allowed attackers to control sshd, possess encryption keys, hide malicious code in SSH login certificates, and execute various malicious actions on compromised devices. Fortunately, the backdoor was discovered before affecting production versions of Linux. The vulnerability, identified as CVE-2024-3094, has a CVSS score of 10, and organizations are advised to downgrade to non-compromised versions of XZ Utils.'}\n"
     ]
    }
   ],
   "source": [
    "# Test the agent with a query\n",
    "query = \"Research about the XZ backdoor\"\n",
    "response = agent.invoke(query)\n",
    "print(response)"
   ]
  },
  {
   "cell_type": "code",
   "execution_count": 9,
   "metadata": {},
   "outputs": [
    {
     "name": "stdout",
     "output_type": "stream",
     "text": [
      "Content saved to research_results.txt\n"
     ]
    }
   ],
   "source": [
    "import json\n",
    "\n",
    "# Save the response to a file\n",
    "save_tool = SaveToFileTool()\n",
    "filename = \"research_results.txt\"\n",
    "\n",
    "# Convert the response dict to a JSON string\n",
    "content = json.dumps(response, indent=4)\n",
    "\n",
    "# Prepare tool_input as a dictionary\n",
    "tool_input = {\n",
    "    \"filename\": filename,\n",
    "    \"content\": content\n",
    "}\n",
    "\n",
    "# Call the run method with tool_input\n",
    "save_message = save_tool.run(tool_input=tool_input)\n",
    "print(save_message)"
   ]
  },
  {
   "cell_type": "code",
   "execution_count": null,
   "metadata": {},
   "outputs": [],
   "source": []
  },
  {
   "cell_type": "markdown",
   "metadata": {},
   "source": []
  }
 ],
 "metadata": {
  "kernelspec": {
   "display_name": "venv",
   "language": "python",
   "name": "python3"
  },
  "language_info": {
   "codemirror_mode": {
    "name": "ipython",
    "version": 3
   },
   "file_extension": ".py",
   "mimetype": "text/x-python",
   "name": "python",
   "nbconvert_exporter": "python",
   "pygments_lexer": "ipython3",
   "version": "3.11.6"
  }
 },
 "nbformat": 4,
 "nbformat_minor": 2
}
